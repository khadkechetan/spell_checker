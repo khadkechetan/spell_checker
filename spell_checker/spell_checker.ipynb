{
  "nbformat": 4,
  "nbformat_minor": 0,
  "metadata": {
    "colab": {
      "provenance": [],
      "authorship_tag": "ABX9TyN5hWYQuwNHBVP+yM3nIkqS",
      "include_colab_link": true
    },
    "kernelspec": {
      "name": "python3",
      "display_name": "Python 3"
    },
    "language_info": {
      "name": "python"
    }
  },
  "cells": [
    {
      "cell_type": "markdown",
      "metadata": {
        "id": "view-in-github",
        "colab_type": "text"
      },
      "source": [
        "<a href=\"https://colab.research.google.com/github/khadkechetan/spell_checker/blob/main/spell_checker/spell_checker.ipynb\" target=\"_parent\"><img src=\"https://colab.research.google.com/assets/colab-badge.svg\" alt=\"Open In Colab\"/></a>"
      ]
    },
    {
      "cell_type": "markdown",
      "source": [
        "Name: Chetan Khadke\n",
        "\n",
        "Email: khadkechetan@gmail.com"
      ],
      "metadata": {
        "id": "01iYDtwqFHrX"
      }
    },
    {
      "cell_type": "markdown",
      "source": [
        "# 1. Pyspellchecker"
      ],
      "metadata": {
        "id": "YohzWgRscIe8"
      }
    },
    {
      "cell_type": "code",
      "execution_count": null,
      "metadata": {
        "colab": {
          "base_uri": "https://localhost:8080/"
        },
        "id": "sp0nNAemQBNP",
        "outputId": "01079a26-5a9f-44cc-cce4-4c43424892b6"
      },
      "outputs": [
        {
          "output_type": "stream",
          "name": "stdout",
          "text": [
            "Looking in indexes: https://pypi.org/simple, https://us-python.pkg.dev/colab-wheels/public/simple/\n",
            "Collecting pyspellchecker\n",
            "  Downloading pyspellchecker-0.7.2-py3-none-any.whl (3.4 MB)\n",
            "\u001b[2K     \u001b[90m━━━━━━━━━━━━━━━━━━━━━━━━━━━━━━━━━━━━━━━━\u001b[0m \u001b[32m3.4/3.4 MB\u001b[0m \u001b[31m84.0 MB/s\u001b[0m eta \u001b[36m0:00:00\u001b[0m\n",
            "\u001b[?25hInstalling collected packages: pyspellchecker\n",
            "Successfully installed pyspellchecker-0.7.2\n"
          ]
        }
      ],
      "source": [
        "!pip install pyspellchecker"
      ]
    },
    {
      "cell_type": "code",
      "source": [
        "from spellchecker import SpellChecker\n",
        "spell = SpellChecker()\n",
        "list_of_words = ['taking', 'apropriate', 'dumy', 'here'] #@param\n",
        "misspelled = spell.unknown()\n",
        "for word in misspelled:\n",
        "    print(f\"Word '{word}' : Top match: '{spell.correction(word)}' ;\\\n",
        "     Possible candidate '{spell.candidates(word)}'\")"
      ],
      "metadata": {
        "colab": {
          "base_uri": "https://localhost:8080/"
        },
        "id": "q2wi9giOQivN",
        "outputId": "7b4e7002-83aa-4bee-9a9c-0c5a93731bd1"
      },
      "execution_count": null,
      "outputs": [
        {
          "output_type": "stream",
          "name": "stdout",
          "text": [
            "Word 'apropriate' : Top match: 'appropriate' ;     Possible candidate '{'appropriate'}'\n",
            "Word 'dumy' : Top match: 'duty' ;     Possible candidate '{'dumpy', 'dump', 'duty', 'dummy', 'duly', 'dumb'}'\n"
          ]
        }
      ]
    },
    {
      "cell_type": "markdown",
      "source": [
        "# 2. TextBlob"
      ],
      "metadata": {
        "id": "ZqjNENpucTy3"
      }
    },
    {
      "cell_type": "code",
      "source": [
        "!pip install textBlob"
      ],
      "metadata": {
        "colab": {
          "base_uri": "https://localhost:8080/"
        },
        "id": "262eK2iPVut0",
        "outputId": "00f4fdeb-4bd2-457b-8ef0-9d2a9681d4ee"
      },
      "execution_count": null,
      "outputs": [
        {
          "output_type": "stream",
          "name": "stdout",
          "text": [
            "Looking in indexes: https://pypi.org/simple, https://us-python.pkg.dev/colab-wheels/public/simple/\n",
            "Requirement already satisfied: textBlob in /usr/local/lib/python3.10/dist-packages (0.17.1)\n",
            "Requirement already satisfied: nltk>=3.1 in /usr/local/lib/python3.10/dist-packages (from textBlob) (3.8.1)\n",
            "Requirement already satisfied: click in /usr/local/lib/python3.10/dist-packages (from nltk>=3.1->textBlob) (8.1.3)\n",
            "Requirement already satisfied: joblib in /usr/local/lib/python3.10/dist-packages (from nltk>=3.1->textBlob) (1.2.0)\n",
            "Requirement already satisfied: regex>=2021.8.3 in /usr/local/lib/python3.10/dist-packages (from nltk>=3.1->textBlob) (2022.10.31)\n",
            "Requirement already satisfied: tqdm in /usr/local/lib/python3.10/dist-packages (from nltk>=3.1->textBlob) (4.65.0)\n"
          ]
        }
      ]
    },
    {
      "cell_type": "code",
      "source": [
        "from textblob import TextBlob\n",
        "sentence = \"I feel very energatik.\"#@param\n",
        "b = TextBlob(sentence)\n",
        "print(b.correct())"
      ],
      "metadata": {
        "colab": {
          "base_uri": "https://localhost:8080/"
        },
        "id": "93PNnY79QuYu",
        "outputId": "8dfa0010-c145-4b49-97de-58d76377ad24"
      },
      "execution_count": null,
      "outputs": [
        {
          "output_type": "stream",
          "name": "stdout",
          "text": [
            "I feel very energetic.\n"
          ]
        }
      ]
    },
    {
      "cell_type": "code",
      "source": [
        "from textblob import Word\n",
        "miss_spell_word = 'energatik' #@param\n",
        "w = Word(miss_spell_word)\n",
        "print(w.spellcheck())"
      ],
      "metadata": {
        "colab": {
          "base_uri": "https://localhost:8080/"
        },
        "id": "OvHZJUZ-V83s",
        "outputId": "ce000c62-b3ac-4449-becf-ddfa2f957552"
      },
      "execution_count": null,
      "outputs": [
        {
          "output_type": "stream",
          "name": "stdout",
          "text": [
            "[('energetic', 1.0)]\n"
          ]
        }
      ]
    },
    {
      "cell_type": "markdown",
      "source": [
        "# 3. Symspellpy"
      ],
      "metadata": {
        "id": "H4ifRANncbsW"
      }
    },
    {
      "cell_type": "code",
      "source": [
        "!pip install symspellpy"
      ],
      "metadata": {
        "id": "jWpUm1QwjSxr"
      },
      "execution_count": null,
      "outputs": []
    },
    {
      "cell_type": "code",
      "source": [
        "import pkg_resources\n",
        "from symspellpy import SymSpell, Verbosity\n",
        "\n",
        "sym_spell = SymSpell(max_dictionary_edit_distance=2, prefix_length=7)\n",
        "dictionary_path = pkg_resources.resource_filename(\n",
        "    \"symspellpy\", \"frequency_dictionary_en_82_765.txt\"\n",
        ")\n",
        "sym_spell.load_dictionary(dictionary_path, term_index=0, count_index=1)\n",
        "\n",
        "input_term = \"Managment\"  #@param\n",
        "# (max_edit_distance_lookup <= max_dictionary_edit_distance)\n",
        "suggestions = sym_spell.lookup(input_term, Verbosity.CLOSEST, \n",
        "                               max_edit_distance=2, transfer_casing=True)\n",
        "for suggestion in suggestions:\n",
        "    print(suggestion)"
      ],
      "metadata": {
        "colab": {
          "base_uri": "https://localhost:8080/"
        },
        "id": "8x17uwd7jNCn",
        "outputId": "a89a172c-cd24-4af9-aae8-74d949f68491"
      },
      "execution_count": null,
      "outputs": [
        {
          "output_type": "stream",
          "name": "stdout",
          "text": [
            "Management, 1, 304201237\n"
          ]
        }
      ]
    },
    {
      "cell_type": "markdown",
      "source": [
        "Get the original word if no match found"
      ],
      "metadata": {
        "id": "ICRd_seVnAUQ"
      }
    },
    {
      "cell_type": "code",
      "source": [
        "sym_spell = SymSpell(max_dictionary_edit_distance=2, prefix_length=7)\n",
        "dictionary_path = pkg_resources.resource_filename(\n",
        "    \"symspellpy\", \"frequency_dictionary_en_82_765.txt\"\n",
        ")\n",
        "sym_spell.load_dictionary(dictionary_path, term_index=0, count_index=1)\n",
        "\n",
        "input_term = \"miss-managment\"   #@param\n",
        "suggestions = sym_spell.lookup(\n",
        "    input_term, Verbosity.CLOSEST, max_edit_distance=2, \n",
        "    include_unknown=True,transfer_casing=True\n",
        ")\n",
        "for suggestion in suggestions:\n",
        "    print(suggestion)"
      ],
      "metadata": {
        "colab": {
          "base_uri": "https://localhost:8080/"
        },
        "id": "Z1ZLbBN9jsLv",
        "outputId": "1fd10aad-1fef-4ed9-862d-5a8098d4927c"
      },
      "execution_count": null,
      "outputs": [
        {
          "output_type": "stream",
          "name": "stdout",
          "text": [
            "miss-managment, 3, 0\n"
          ]
        }
      ]
    },
    {
      "cell_type": "code",
      "source": [
        "import pkg_resources\n",
        "from symspellpy import SymSpell\n",
        "\n",
        "sym_spell = SymSpell(max_dictionary_edit_distance=2, prefix_length=7)\n",
        "dictionary_path = pkg_resources.resource_filename(\n",
        "    \"symspellpy\", \"frequency_dictionary_en_82_765.txt\"\n",
        ")\n",
        "bigram_path = pkg_resources.resource_filename(\n",
        "    \"symspellpy\", \"frequency_bigramdictionary_en_243_342.txt\"\n",
        ")\n",
        "# load both the distribution\n",
        "sym_spell.load_dictionary(dictionary_path, term_index=0, count_index=1)\n",
        "sym_spell.load_bigram_dictionary(bigram_path, term_index=0, count_index=2)\n",
        "\n",
        "# lookup suggestions for multi-word input strings \n",
        "params = \"I m mastring the spll checker for reserch pupose.\" #@param\n",
        "input_term = (\n",
        "    params\n",
        ")\n",
        "suggestions = sym_spell.lookup_compound(\n",
        "    input_term, max_edit_distance=2, transfer_casing=True,\n",
        ")\n",
        "# display suggestion term, edit distance, and term frequency\n",
        "for suggestion in suggestions:\n",
        "    print(suggestion)"
      ],
      "metadata": {
        "colab": {
          "base_uri": "https://localhost:8080/"
        },
        "id": "ojPgPb4xm2By",
        "outputId": "1d628415-d8cf-45fd-d116-e5065a4a3406"
      },
      "execution_count": null,
      "outputs": [
        {
          "output_type": "stream",
          "name": "stdout",
          "text": [
            "I a mastering the sell checker for research purpose, 6, 0\n"
          ]
        }
      ]
    },
    {
      "cell_type": "code",
      "source": [],
      "metadata": {
        "id": "xE4-KqPypH_S"
      },
      "execution_count": null,
      "outputs": []
    }
  ]
}